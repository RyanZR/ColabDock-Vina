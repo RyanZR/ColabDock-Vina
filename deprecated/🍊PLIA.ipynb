{
  "cells": [
    {
      "cell_type": "markdown",
      "metadata": {
        "id": "view-in-github",
        "colab_type": "text"
      },
      "source": [
        "<a href=\"https://colab.research.google.com/github/RyanZR/ColabDock-Vina/blob/main/%F0%9F%8D%8APLIA.ipynb\" target=\"_parent\"><img src=\"https://colab.research.google.com/assets/colab-badge.svg\" alt=\"Open In Colab\"/></a>"
      ]
    },
    {
      "cell_type": "markdown",
      "source": [
        "# 🍊 **PLIA**\n",
        "_**P**rotein-**L**igand **I**nteraction **A**nalysis_ is a Jupyter Notebook written to perform protein-ligand binding interaction analysis on  using **MDAnalysis** and **ProLiF**.\n",
        "\n",
        "\n",
        "Proceed to [MOUNTAIN_V2.pynb](https://colab.research.google.com/github/RyanZR/ColabDock-Vina/blob/main/%F0%9F%8D%8AMOUNTAIN_V2.ipynb) to perform single molecular docking.\n",
        "\n",
        "Proceed to [UNOIN_V2.pynb](https://colab.research.google.com/github/RyanZR/ColabDock-Vina/blob/main/%F0%9F%8D%8AUNION_V2.ipynb) to perform virtual screening."
      ],
      "metadata": {
        "id": "AJgBbyofO10Q"
      }
    },
    {
      "cell_type": "markdown",
      "source": [
        "---\n",
        "---\n",
        "# **Setting Up the Environment for Interaction Analysis**\n",
        "\n",
        "Before starting, we need to install all the necessary software and dependecies to perform molecular docking. \n",
        "\n",
        "+ condacolab (https://github.com/con)\n",
        "+ MDAnalysis (https://www.mdanalysis.org/)\n",
        "+ ProLiF (https://github.com/chemosim-lab/ProLIF)"
      ],
      "metadata": {
        "id": "dmCo3Jb8Xmue"
      }
    },
    {
      "cell_type": "code",
      "execution_count": null,
      "metadata": {
        "cellView": "form",
        "id": "EKqjU-W83LTW"
      },
      "outputs": [],
      "source": [
        "#@title **Install dependencies**\n",
        "#@markdown It will take a few minutes, please, drink a coffee and wait. ;-)\n",
        "\n",
        "# install dependencies\n",
        "\n",
        "%%capture\n",
        "import sys\n",
        "!pip -q install py3Dmol 2>&1 1>/dev/null\n",
        "!pip install --upgrade MDAnalysis 2>&1 1>/dev/null\n",
        "!pip install rdkit-pypi\n",
        "!pip install Cython\n",
        "!git clone https://github.com/pablo-arantes/ProLIF.git\n",
        "prolif1 = \"cd /content/ProLIF\"\n",
        "prolif2 = \"sed -i 's/mdanalysis.*/mdanalysis==2.0.0/' setup.cfg\"\n",
        "prolif3 = \"pip install .\"\n",
        "\n",
        "original_stdout = sys.stdout\n",
        "with open('prolif.sh', 'w') as f:\n",
        "    sys.stdout = f\n",
        "    print(prolif1)\n",
        "    print(prolif2)\n",
        "    print(prolif3)\n",
        "    sys.stdout = original_stdout\n",
        "\n",
        "!chmod 700 prolif.sh 2>&1 1>/dev/null\n",
        "!bash prolif.sh >/dev/null 2>&1\n",
        "\n",
        "# install conda\n",
        "!wget -qnc https://repo.anaconda.com/miniconda/Miniconda3-latest-Linux-x86_64.sh \n",
        "!bash Miniconda3-latest-Linux-x86_64.sh -bfp /usr/local 2>&1 1>/dev/null\n",
        "!rm -r Miniconda3-latest-Linux-x86_64.sh /content/sample_data /content/ProLIF prolif.sh\n",
        "!conda install -y -q -c conda-forge openmm=7.6 python=3.7 pdbfixer 2>&1 1>/dev/null\n",
        "\n",
        "sys.path.append('/usr/local/lib/python3.7/site-packages/')"
      ]
    },
    {
      "cell_type": "code",
      "execution_count": null,
      "metadata": {
        "id": "56dDq5XCBN7k",
        "cellView": "form"
      },
      "outputs": [],
      "source": [
        "# @title **Import Python modules**\n",
        "# @markdown This allow Python accessible to the neccessary modules.\n",
        "\n",
        "import openmm\n",
        "from openmm.app import PDBFile\n",
        "from pdbfixer import PDBFixer\n",
        "\n",
        "import os\n",
        "import warnings\n",
        "import shutil\n",
        "import IPython.display\n",
        "\n",
        "import numpy as np\n",
        "import pandas as pd\n",
        "from google.colab import drive, files\n",
        "\n",
        "import MDAnalysis as mda\n",
        "from MDAnalysis.coordinates import PDB\n",
        "\n",
        "import prolif as plf\n",
        "from prolif.plotting.network import LigNetwork\n",
        "\n",
        "# Capture python output\n",
        "class Hide:\n",
        "  def __enter__(self):\n",
        "    self._original_stdout = sys.stdout\n",
        "    sys.stdout = open(os.devnull, \"w\")\n",
        "  \n",
        "  def __exit__(self, exc_type, exc_val, exc_tb):\n",
        "    sys.stdout.close()\n",
        "    sys.stdout = self._original_stdout\n",
        "\n",
        "warnings.filterwarnings(\"ignore\")"
      ]
    },
    {
      "cell_type": "code",
      "execution_count": null,
      "metadata": {
        "cellView": "form",
        "id": "aiv1BONE0o6i"
      },
      "outputs": [],
      "source": [
        "# @title **Import Google Drive**\n",
        "# @markdown This allow data to be stored in Google Drive.\n",
        "\n",
        "# Flush and mount GDrive\n",
        "with Hide():\n",
        "  drive.flush_and_unmount()\n",
        "  drive.mount(\"/content/drive\", force_remount=True)\n",
        "\n",
        "print(\"> Mounted at /content/drive\")"
      ]
    },
    {
      "cell_type": "markdown",
      "metadata": {
        "id": "t2_5FieMKY3u"
      },
      "source": [
        "---\n",
        "---\n",
        "# **PLIA** for Single Docking\n",
        "\n",
        "This section of the codes load data obtained from [MOUNTAIN_V2.ipynb](https://colab.research.google.com/github/RyanZR/ColabDock-Vina/blob/main/%F0%9F%8D%8AMOUNTAIN_V2.ipynb) and generate ligand interaction network for analysis."
      ]
    },
    {
      "cell_type": "code",
      "execution_count": null,
      "metadata": {
        "cellView": "form",
        "id": "77xaw4fE9rVD"
      },
      "outputs": [],
      "source": [
        "# @title **Create and select folders**\n",
        "# @markdown Select a **work directory** name without space. Analysis folder will be created to store the data necessary for interaction analysis.\n",
        "\n",
        "# Define path of folder\n",
        "GDrive_dir = \"/content/drive/MyDrive/Docking/7KNX_docking\" #@param {type: \"string\"}\n",
        "dir = os.path.abspath(\".\")\n",
        "analysis_folder = os.path.join(dir,\"analysis\")\n",
        "protein_folder = os.path.join(GDrive_dir,\"protein\")\n",
        "ligand_folder = os.path.join(GDrive_dir,\"ligand\")\n",
        "experimental_folder = os.path.join(GDrive_dir,\"experimental\")\n",
        "docking_folder = os.path.join(GDrive_dir,\"docking\")\n",
        "\n",
        "# Create folder if folder have not exists\n",
        "if os.path.exists(analysis_folder):\n",
        "  print(\"> %s already exists\" % analysis_folder)\n",
        "if not os.path.exists(analysis_folder):\n",
        "  os.mkdir(analysis_folder)\n",
        "  print(\"> %s was successfully created\" % analysis_folder)"
      ]
    },
    {
      "cell_type": "code",
      "execution_count": null,
      "metadata": {
        "cellView": "form",
        "id": "zrgCLXIVBoCT"
      },
      "outputs": [],
      "source": [
        "# @title **Protein Preparation**\n",
        "\n",
        "Protein_pdb = \"7KNX_prot_A.pdb\" #@param {type : \"string\"}\n",
        "protein_pdb_dfile = os.path.join(docking_folder,Protein_pdb)\n",
        "protein_H_pdb_afile = os.path.join(analysis_folder,Protein_pdb[:-4] + \"_H.pdb\")\n",
        "\n",
        "fix_protein = PDBFixer(protein_pdb_dfile)\n",
        "fix_protein.addMissingHydrogens(7.4)\n",
        "PDBFile.writeFile(fix_protein.topology, fix_protein.positions, open(protein_H_pdb_afile,\"w\"))\n",
        "\n",
        "source = mda.Universe(protein_pdb_dfile)\n",
        "newsrc = mda.Universe(protein_H_pdb_afile)\n",
        "\n",
        "resNum = [res.resid for res in source.residues]\n",
        "for n,r in enumerate(newsrc.residues):\n",
        "  r.resid = resNum[n]\n",
        "\n",
        "save = PDB.PDBWriter(protein_H_pdb_afile)\n",
        "save.write(newsrc)\n",
        "save.close()\n",
        "\n",
        "print(\"> All hydrogen added into \" + Protein_pdb)\n",
        "print(\"> \" + Protein_pdb[:-4] + \"_H.pdb successfully created in \" + analysis_folder)"
      ]
    },
    {
      "cell_type": "code",
      "execution_count": null,
      "metadata": {
        "cellView": "form",
        "id": "fgFrtYuRDFo5"
      },
      "outputs": [],
      "source": [
        "# @title **Ligand Preparation**\n",
        "# @markdown Select `output.sdf` file of interest.\n",
        "\n",
        "Ligand_output_sdf = \"C26A6_output.sdf\" #@param {type:\"string\"}\n",
        "ligand_output_sdf_dfile = os.path.join(docking_folder,Ligand_output_sdf)\n",
        "ligand_output_sdf_afile = os.path.join(analysis_folder,Ligand_output_sdf)\n",
        "\n",
        "shutil.copy(ligand_output_sdf_dfile, ligand_output_sdf_afile)\n",
        "\n",
        "print(\"> \" + Ligand_output_sdf + \" is selected\")\n",
        "print(\"> \" + Ligand_output_sdf + \" successfully copied to \" + analysis_folder)"
      ]
    },
    {
      "cell_type": "code",
      "execution_count": null,
      "metadata": {
        "cellView": "form",
        "id": "0XRvUoBhIE3C"
      },
      "outputs": [],
      "source": [
        "# @title **Generate Interaction Network Dataframe**\n",
        "# @markdown This load the protein and ligand into 3D universe and generate a dataframe for interaction network. \n",
        "\n",
        "# Define variables\n",
        "plia_output_xlsx = \"plia_output.xlsx\"\n",
        "plia_output_xlsx_afile = os.path.join(analysis_folder, plia_output_xlsx)\n",
        "ligand_name = Ligand_output_sdf[:-11]\n",
        "\n",
        "# Load protein\n",
        "protein = mda.Universe(protein_H_pdb_afile)\n",
        "protein = plf.Molecule.from_mda(protein)\n",
        "\n",
        "# Load ligands\n",
        "ligand = list(plf.sdf_supplier(ligand_output_sdf_afile))\n",
        "\n",
        "# Generate and export interaction network dataframe\n",
        "fp = plf.Fingerprint()\n",
        "fp.run_from_iterable(ligand,protein)\n",
        "results_df = fp.to_dataframe(return_atoms=True)\n",
        "results_df.to_excel(plia_output_xlsx_afile, sheet_name=\"Raw data\")\n",
        "\n",
        "# Generate and export interaction network\n",
        "count = 0\n",
        "for n in ligand:\n",
        "  count += 1\n",
        "  net = LigNetwork.from_ifp(results_df, \n",
        "                          ligand[0], \n",
        "                          kind = \"frame\", \n",
        "                          frame = count - 1, \n",
        "                          rotation = 360)\n",
        "  net.save(os.path.join(analysis_folder, ligand_name + \"_\" + str(count) + \".html\"))\n",
        "\n",
        "print(\"> \" + plia_output_xlsx + \" successfully created in \" + analysis_folder)\n",
        "print(\"> \" + str(count) + \" html files of interaction network successfully generated in \" + analysis_folder)\n",
        "print(\"> Showing protein-ligand interaction network ...\")\n",
        "print(\"\")\n",
        "results_df"
      ]
    },
    {
      "cell_type": "code",
      "execution_count": null,
      "metadata": {
        "cellView": "form",
        "id": "8jDxUVnPE6dT"
      },
      "outputs": [],
      "source": [
        "# @title **Show Ligand Interaction Network**{run: \"auto\"}\n",
        "Pose = 7 #@param [\"1\", \"2\", \"3\", \"4\", \"5\", \"6\", \"7\", \"8\", \"9\"] {type:\"raw\"}\n",
        "ligand_Pose_html = ligand_name + \"_\" + str(Pose) + \".html\"\n",
        "\n",
        "# Show network\n",
        "IPython.display.HTML(os.path.join(analysis_folder, ligand_Pose_html))"
      ]
    },
    {
      "cell_type": "code",
      "source": [
        "# @title **Store result in Google Drive**\n",
        "# @markdown The analysis folder will be created. This save all the files created into Google Drive.\n",
        "\n",
        "# Define varibles\n",
        "destination_folder = os.path.join(GDrive_dir, \"analysis\")\n",
        "\n",
        "# Copy file to GDrive\n",
        "shutil.copytree(analysis_folder, destination_folder)\n",
        "\n",
        "print(\"> Data saved at \" + destination_folder)"
      ],
      "metadata": {
        "cellView": "form",
        "id": "qDAaQgFHZMBK"
      },
      "execution_count": null,
      "outputs": []
    },
    {
      "cell_type": "markdown",
      "metadata": {
        "id": "HzQm3eUcKIvn"
      },
      "source": [
        "---\n",
        "---\n",
        "# **PLIA** for Virtual Screening\n",
        "\n",
        "This section of the codes load data obtained from [UNION_V2.ipynb](https://colab.research.google.com/github/RyanZR/ColabDock-Vina/blob/main/%F0%9F%8D%8AUNION_V2.ipynb) and generate ligand interaction network for analysis."
      ]
    },
    {
      "cell_type": "code",
      "execution_count": null,
      "metadata": {
        "cellView": "form",
        "id": "b8EBFnJMMS7p"
      },
      "outputs": [],
      "source": [
        "# @title **Select and create folders**\n",
        "# @markdown Select a **work directory** name without space. Analysis folder will be created to store the data necessary for interaction analysis.\n",
        "\n",
        "# Define path of folder\n",
        "GDrive_dir = \"/content/drive/MyDrive/Docking/7KNX_VS_2\" #@param {type: \"string\"}\n",
        "dir = os.path.abspath(\".\")\n",
        "analysis_folder = os.path.join(dir,\"analysis\")\n",
        "protein_folder = os.path.join(GDrive_dir,\"protein\")\n",
        "ligand_folder = os.path.join(GDrive_dir,\"ligand\")\n",
        "experimental_folder = os.path.join(GDrive_dir,\"experimental\")\n",
        "docking_folder = os.path.join(GDrive_dir,\"docking\")\n",
        "\n",
        "# Create folder if folder have not exists\n",
        "if os.path.exists(analysis_folder):\n",
        "  print(\"> %s already exists\" % analysis_folder)\n",
        "if not os.path.exists(analysis_folder):\n",
        "  os.mkdir(analysis_folder)\n",
        "  print(\"> %s was successfully created\" % analysis_folder)"
      ]
    },
    {
      "cell_type": "code",
      "execution_count": null,
      "metadata": {
        "cellView": "form",
        "id": "vdlQDYixK_Wl"
      },
      "outputs": [],
      "source": [
        "# @title **Protein Preparation**\n",
        "\n",
        "Protein_pdb = \"7KNX_prot_A.pdb\" #@param {type : \"string\"}\n",
        "protein_pdb_dfile = os.path.join(docking_folder,Protein_pdb)\n",
        "protein_H_pdb_afile = os.path.join(analysis_folder,Protein_pdb[:-4] + \"_H.pdb\")\n",
        "\n",
        "fix_protein = PDBFixer(protein_pdb_dfile)\n",
        "fix_protein.addMissingHydrogens(7.4)\n",
        "PDBFile.writeFile(fix_protein.topology, fix_protein.positions, open(protein_H_pdb_afile,\"w\"))\n",
        "\n",
        "source = mda.Universe(protein_pdb_dfile)\n",
        "newsrc = mda.Universe(protein_H_pdb_afile)\n",
        "\n",
        "resNum = [res.resid for res in source.residues]\n",
        "for n,r in enumerate(newsrc.residues):\n",
        "  r.resid = resNum[n]\n",
        "\n",
        "save = PDB.PDBWriter(protein_H_pdb_afile)\n",
        "save.write(newsrc)\n",
        "save.close()\n",
        "\n",
        "print(\"> All hydrogen added into \" + Protein_pdb)\n",
        "print(\"> \" + Protein_pdb[:-4] + \"_H.pdb successfully created in \" + analysis_folder)"
      ]
    },
    {
      "cell_type": "code",
      "execution_count": null,
      "metadata": {
        "id": "A8WUn0JfLG41",
        "cellView": "form"
      },
      "outputs": [],
      "source": [
        "# @title **Ligand Preparation**\n",
        "# @markdown This generate a list of ligand with best pose into a single `.sdf` file.\n",
        "ligand_output_sdf_dfile = sorted([ os.path.join(docking_folder,f + \"/\" + f + \"_output.sdf\") for f in os.listdir(docking_folder) if \"Lig_\" in f ])\n",
        "ligand_output_sdf_afile = os.path.join(analysis_folder,\"bp_output.sdf\")\n",
        "\n",
        "with open(ligand_output_sdf_afile,\"w\") as g:\n",
        "  for i in ligand_output_sdf_dfile:\n",
        "    f = open(i,\"r\").readlines()\n",
        "    g.write(\"\".join(f[0:f.index(\"$$$$\\n\") + 1]))\n",
        "\n",
        "print(\"> Best pose of each \" + str(len(ligand_output_sdf_dfile)) + \" output.sdf files extract to \" +ligand_output_sdf_afile[len(analysis_folder) + 1:])\n",
        "print(\"> \" + ligand_output_sdf_afile[len(analysis_folder) + 1:] + \" successfully created in \" + analysis_folder) "
      ]
    },
    {
      "cell_type": "code",
      "execution_count": null,
      "metadata": {
        "id": "-dRmxtBGQlC4",
        "cellView": "form"
      },
      "outputs": [],
      "source": [
        "# @title **Generate Interaction Networks Dataframe**\n",
        "# @markdown This load the protein and ligands into 3D universe and generate a dataframe for interaction networks. \n",
        "\n",
        "# Define variables\n",
        "plia_output_xlsx = \"plia_output.xlsx\"\n",
        "plia_output_xlsx_afile = os.path.join(analysis_folder, plia_output_xlsx)\n",
        "\n",
        "# Load protein\n",
        "protein = mda.Universe(protein_H_pdb_afile)\n",
        "protein = plf.Molecule.from_mda(protein)\n",
        "\n",
        "# Load ligands\n",
        "ligand = list(plf.sdf_supplier(ligand_output_sdf_afile))\n",
        "\n",
        "# Generate and export interaction network dataframe\n",
        "fp = plf.Fingerprint()\n",
        "fp.run_from_iterable(ligand,protein)\n",
        "results_df = fp.to_dataframe(return_atoms=True)\n",
        "results_df.to_excel(plia_output_xlsx_afile, sheet_name=\"Raw data\")\n",
        "\n",
        "# Generate and export interaction network\n",
        "count = 0\n",
        "leadZero = len(str(len(ligand)))\n",
        "for n in ligand:\n",
        "  count += 1\n",
        "  net = LigNetwork.from_ifp(results_df, \n",
        "                          ligand[int(count) - 1], \n",
        "                          kind = \"frame\", \n",
        "                          frame = int(count) - 1, \n",
        "                          rotation = 360)\n",
        "  net.save(os.path.join(analysis_folder, \"Lig_\" + str(count).zfill(leadZero) + \".html\"))\n",
        "\n",
        "print(\"> \" + plia_output_xlsx + \" successfully generated in \" + analysis_folder)\n",
        "print(\"> \" + str(count) + \" html files of interaction network successfully generated in \" + analysis_folder)\n",
        "print(\"> Showing protein-ligand interaction network ...\")\n",
        "print(\"\")\n",
        "results_df"
      ]
    },
    {
      "cell_type": "code",
      "execution_count": null,
      "metadata": {
        "id": "IUJLkieHTo08",
        "cellView": "form"
      },
      "outputs": [],
      "source": [
        "# @title **Show Ligand Interaction Network** {run: \"auto\"}\n",
        "# @markdown Insert the name of the ligand of interest.\n",
        "\n",
        "Load_ligand = \"Lig_049\" #@param {type:\"string\"}\n",
        "Load_ligand_html = Load_ligand + \".html\"\n",
        "\n",
        "# Show network\n",
        "IPython.display.HTML(os.path.join(analysis_folder, Load_ligand_html))"
      ]
    },
    {
      "cell_type": "code",
      "source": [
        "# @title **Store result in Google Drive**\n",
        "# @markdown The analysis folder will be created. This save all the files created into Google Drive.\n",
        "\n",
        "# Define varibles\n",
        "destination_folder = os.path.join(GDrive_dir, \"analysis\")\n",
        "\n",
        "# Copy file to GDrive\n",
        "shutil.copytree(analysis_folder, destination_folder)\n",
        "\n",
        "print(\"> Data saved at \" + destination_folder)"
      ],
      "metadata": {
        "cellView": "form",
        "id": "fW7RPqF9Lm4b"
      },
      "execution_count": null,
      "outputs": []
    }
  ],
  "metadata": {
    "colab": {
      "collapsed_sections": [
        "AJgBbyofO10Q",
        "t2_5FieMKY3u"
      ],
      "provenance": [],
      "authorship_tag": "ABX9TyOfRkq5IGi30n22x/ffb+qW",
      "include_colab_link": true
    },
    "kernelspec": {
      "display_name": "Python 3",
      "name": "python3"
    },
    "language_info": {
      "name": "python"
    }
  },
  "nbformat": 4,
  "nbformat_minor": 0
}
